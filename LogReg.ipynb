{
 "cells": [
  {
   "cell_type": "markdown",
   "metadata": {},
   "source": [
    "# LogReg\n",
    "\n",
    "### Import"
   ]
  },
  {
   "cell_type": "code",
   "execution_count": null,
   "metadata": {},
   "outputs": [],
   "source": [
    "from numpy import dot\n",
    "from pandas import read_csv"
   ]
  },
  {
   "cell_type": "markdown",
   "metadata": {},
   "source": [
    "## Učitavanje dataseta\n",
    "\n",
    "Funkcija za učitavanje podataka iz CSV datoteke"
   ]
  },
  {
   "cell_type": "code",
   "execution_count": null,
   "metadata": {},
   "outputs": [],
   "source": [
    "def df(filename):\n",
    "    return read_csv(filename)"
   ]
  },
  {
   "cell_type": "markdown",
   "metadata": {},
   "source": [
    "### Train set"
   ]
  },
  {
   "cell_type": "code",
   "execution_count": null,
   "metadata": {},
   "outputs": [],
   "source": [
    "train = df(open(\"500train_BoW.csv\"))"
   ]
  },
  {
   "cell_type": "markdown",
   "metadata": {},
   "source": [
    "Odvajanje targeta od ulaznih vektora prikazqnih Bag-of-Words modelom. Targete skaliramo sa $\\{1, 2\\}$ na $\\{0, 1\\}$, gdje 0 predstavlja loš review, a 1 dobar review."
   ]
  },
  {
   "cell_type": "code",
   "execution_count": null,
   "metadata": {},
   "outputs": [],
   "source": [
    "inputVektori = []\n",
    "inputTargeti = []\n",
    "iterator = train.iterrows()\n",
    "for i in range(train.shape[0]):\n",
    "    # whole_row = next(iterator)\n",
    "    row = next(iterator)[1]\n",
    "    inputTargeti.append(row[\"TARGET\"] - 1)\n",
    "    inputVektori.append(row[1:])\n",
    "\n",
    "print(inputVektori)\n",
    "print(inputTargeti)"
   ]
  },
  {
   "cell_type": "markdown",
   "metadata": {},
   "source": [
    "## Test set"
   ]
  },
  {
   "cell_type": "code",
   "execution_count": null,
   "metadata": {},
   "outputs": [],
   "source": [
    "test = df(open(\"20test_BoW.csv\"))\n",
    "\n",
    "testVektori = []\n",
    "testTargeti = []\n",
    "iterator = test.iterrows()\n",
    "for i in range(test.shape[0]):\n",
    "    row = next(iterator)[1]\n",
    "    testTargeti.append(row[\"TARGET\"] - 1)\n",
    "    testVektori.append(row[1:])\n",
    "\n",
    "print(testVektori)\n",
    "print(testTargeti)"
   ]
  },
  {
   "cell_type": "markdown",
   "metadata": {},
   "source": [
    "## Definicije funkcija za logističku regresiju\n",
    "\n",
    "- Sigma \n",
    "- ForwardPass\n",
    "- BackProp"
   ]
  },
  {
   "cell_type": "markdown",
   "metadata": {},
   "source": [
    "### Sigma\n",
    "\n",
    "$$ \\sigma (z) = \\frac{1}{1 + e^{-z}} $$\n",
    "\n",
    "pri čemu $e$ aproksimiramo s $2.71$."
   ]
  },
  {
   "cell_type": "code",
   "execution_count": null,
   "metadata": {},
   "outputs": [],
   "source": [
    "def Sigma(z):\n",
    "    return 1 / ( 1 + (2.71**(-z)) )"
   ]
  },
  {
   "cell_type": "markdown",
   "metadata": {},
   "source": [
    "### ForwardPass\n",
    "\n",
    "Varijable outputs i errors popunjavamo pri svakom pozivu ForwardPassa. Rezultat računamo iz umnoška (funkcija dot iz numpya) ulaznog vektora i težina:\n",
    "\n",
    "$$ \\hat{y} = \\sigma (w \\times x) $$\n",
    "\n",
    "Greška:\n",
    "\n",
    "$$ E = \\frac{1}{2} (t - \\hat{y})^{2} $$\n"
   ]
  },
  {
   "cell_type": "code",
   "execution_count": null,
   "metadata": {},
   "outputs": [],
   "source": [
    "outputs = []\n",
    "errors = []\n",
    "\n",
    "def ForwardPass(tezine, inputVektor, target):\n",
    "    y_kapica = Sigma(dot(tezine, inputVektor))\n",
    "    greska = 0.5 * ((target - y_kapica)**2)\n",
    "    outputs.append(y_kapica)\n",
    "    errors.append(greska)\n",
    "    return (y_kapica, greska)"
   ]
  }
 ],
 "metadata": {
  "kernelspec": {
   "display_name": "Python 3 (ipykernel)",
   "language": "python",
   "name": "python3"
  },
  "language_info": {
   "codemirror_mode": {
    "name": "ipython",
    "version": 3
   },
   "file_extension": ".py",
   "mimetype": "text/x-python",
   "name": "python",
   "nbconvert_exporter": "python",
   "pygments_lexer": "ipython3",
   "version": "3.10.9"
  }
 },
 "nbformat": 4,
 "nbformat_minor": 2
}
