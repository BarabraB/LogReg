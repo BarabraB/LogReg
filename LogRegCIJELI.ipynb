{
 "cells": [
  {
   "attachments": {},
   "cell_type": "markdown",
   "metadata": {},
   "source": [
    "# LogReg\n",
    "\n",
    "### Import"
   ]
  },
  {
   "cell_type": "code",
   "execution_count": null,
   "metadata": {},
   "outputs": [],
   "source": [
    "from numpy import dot\n",
    "from pandas import read_csv"
   ]
  },
  {
   "attachments": {},
   "cell_type": "markdown",
   "metadata": {},
   "source": [
    "## Učitavanje dataseta\n",
    "\n",
    "Funkcija za učitavanje podataka iz CSV datoteke"
   ]
  },
  {
   "cell_type": "code",
   "execution_count": null,
   "metadata": {},
   "outputs": [],
   "source": [
    "def df(filename):\n",
    "    return read_csv(filename)"
   ]
  },
  {
   "attachments": {},
   "cell_type": "markdown",
   "metadata": {},
   "source": [
    "### Train set"
   ]
  },
  {
   "cell_type": "code",
   "execution_count": null,
   "metadata": {},
   "outputs": [],
   "source": [
    "train = df(open(\"500train_BoW.csv\"))"
   ]
  },
  {
   "attachments": {},
   "cell_type": "markdown",
   "metadata": {},
   "source": [
    "Odvajanje targeta od ulaznih vektora prikazqnih Bag-of-Words modelom. Targete skaliramo sa $\\{1, 2\\}$ na $\\{0, 1\\}$, gdje 0 predstavlja loš review, a 1 dobar review."
   ]
  },
  {
   "cell_type": "code",
   "execution_count": null,
   "metadata": {},
   "outputs": [],
   "source": [
    "inputVektori = []\n",
    "inputTargeti = []\n",
    "iterator = train.iterrows()\n",
    "for i in range(train.shape[0]):\n",
    "    # whole_row = next(iterator)\n",
    "    row = next(iterator)[1]\n",
    "    inputTargeti.append(row[\"TARGET\"] - 1)\n",
    "    inputVektori.append(row[1:])\n",
    "\n",
    "print(inputVektori)\n",
    "print(inputTargeti)"
   ]
  },
  {
   "attachments": {},
   "cell_type": "markdown",
   "metadata": {},
   "source": [
    "## Test set"
   ]
  },
  {
   "cell_type": "code",
   "execution_count": null,
   "metadata": {},
   "outputs": [],
   "source": [
    "test = df(open(\"20test_BoW.csv\"))\n",
    "\n",
    "testVektori = []\n",
    "testTargeti = []\n",
    "iterator = test.iterrows()\n",
    "for i in range(test.shape[0]):\n",
    "    row = next(iterator)[1]\n",
    "    testTargeti.append(row[\"TARGET\"] - 1)\n",
    "    testVektori.append(row[1:])\n",
    "\n",
    "print(testVektori)\n",
    "print(testTargeti)"
   ]
  },
  {
   "attachments": {},
   "cell_type": "markdown",
   "metadata": {},
   "source": [
    "## Definicije funkcija za logističku regresiju\n",
    "\n",
    "- Sigma \n",
    "- ForwardPass\n",
    "- BackProp"
   ]
  },
  {
   "attachments": {},
   "cell_type": "markdown",
   "metadata": {},
   "source": [
    "### Sigma\n",
    "\n",
    "$$ \\sigma (z) = \\frac{1}{1 + e^{-z}} $$\n",
    "\n",
    "pri čemu $e$ aproksimiramo s $2.71$."
   ]
  },
  {
   "cell_type": "code",
   "execution_count": null,
   "metadata": {},
   "outputs": [],
   "source": [
    "def Sigma(z):\n",
    "    return 1 / ( 1 + (2.71**(-z)) )"
   ]
  },
  {
   "attachments": {},
   "cell_type": "markdown",
   "metadata": {},
   "source": [
    "### ForwardPass\n",
    "\n",
    "Varijable outputs i errors popunjavamo pri svakom pozivu ForwardPassa. Rezultat računamo iz umnoška (funkcija dot iz numpya) ulaznog vektora i težina:\n",
    "\n",
    "$$ \\hat{y} = \\sigma (w \\times x) $$\n",
    "\n",
    "Greška:\n",
    "\n",
    "$$ E = \\frac{1}{2} (t - \\hat{y})^{2} $$\n"
   ]
  },
  {
   "cell_type": "code",
   "execution_count": null,
   "metadata": {},
   "outputs": [],
   "source": [
    "outputs = []\n",
    "errors = []\n",
    "\n",
    "def ForwardPass(tezine, inputVektor, target):\n",
    "    y_kapica = Sigma(dot(tezine, inputVektor))\n",
    "    greska = 0.5 * ((target - y_kapica)**2)\n",
    "    outputs.append(y_kapica)\n",
    "    errors.append(greska)\n",
    "    return (y_kapica, greska)"
   ]
  },
  {
   "attachments": {},
   "cell_type": "markdown",
   "metadata": {},
   "source": [
    "### BackProp\n",
    "\n",
    "Definiramo brzinu učenja kao $ \\eta = 0.25 $, umjesto predloženih $0.1$ zbog relativno malog broja epoha.\n",
    "\n",
    "Ažuriramo težine na temelju rezultata i targeta:"
   ]
  },
  {
   "cell_type": "code",
   "execution_count": null,
   "metadata": {},
   "outputs": [],
   "source": [
    "eta = 0.25\n",
    "\n",
    "def BackProp(tezine, inputVektor, y_kapica, target):\n",
    "    noveTezine = []\n",
    "    for i in range(len(tezine)):\n",
    "        trenutnaTezina = tezine[i]\n",
    "        parDer = - inputVektor[i] * y_kapica * (1 - y_kapica) * (target - y_kapica)\n",
    "        novaTezina = trenutnaTezina - eta * parDer\n",
    "        noveTezine.append(novaTezina)\n",
    "    return noveTezine"
   ]
  },
  {
   "attachments": {},
   "cell_type": "markdown",
   "metadata": {},
   "source": [
    "## Učenje\n",
    "\n",
    "U svakoj od $N = 25$ epoha izvedemo ForwardPass i BackProp za sve ulazne vektore."
   ]
  },
  {
   "cell_type": "code",
   "execution_count": null,
   "metadata": {},
   "outputs": [],
   "source": [
    "brojRijeci = test.shape[1] - 1\n",
    "brojReviewova = train.shape[0]\n",
    "\n",
    "def Train(trainSet, weights, targets, N=2):\n",
    "    tezinePoEpohama = [weights]\n",
    "    for epoha in range(N):\n",
    "        for i in range(brojReviewova):\n",
    "            y_kapica, greska = ForwardPass(tezinePoEpohama[-1], trainSet[i], targets[i])\n",
    "            tezinePoEpohama.append(BackProp(tezinePoEpohama[-1], trainSet[i], y_kapica, targets[i]))\n",
    "    return tezinePoEpohama\n",
    "\n",
    "pocetneTezine = []\n",
    "for i in range(brojRijeci):\n",
    "    pocetneTezine.append(0.5)\n",
    "\n",
    "tezinePoEpohama = Train(inputVektori, pocetneTezine, inputTargeti, N=25)\n",
    "konacneTezine = tezinePoEpohama[-1]\n",
    "\n",
    "for i in range(len(inputVektori[0].keys())):\n",
    "    print(inputVektori[0].keys()[i], konacneTezine[i])"
   ]
  },
  {
   "attachments": {},
   "cell_type": "markdown",
   "metadata": {},
   "source": [
    "## Testiranje\n",
    "\n",
    "Na testnom skupu podataka evaluiramo težine koje smo dobili učenjem."
   ]
  },
  {
   "cell_type": "code",
   "execution_count": null,
   "metadata": {},
   "outputs": [],
   "source": [
    "def Predict(tezine, inputVektori):\n",
    "    predikcije = []\n",
    "    for i in range(len(inputVektori)):\n",
    "        y_kapica = Sigma(dot(tezine, inputVektori[i]))\n",
    "        predikcije.append(y_kapica)\n",
    "    return predikcije\n",
    "\n",
    "predikcije = Predict(konacneTezine, testVektori)\n",
    "\n",
    "print(\" Pred | Target\")\n",
    "print(\"------+--------\")\n",
    "for i in range(len(predikcije)):\n",
    "    print(\" {:.2f} |   {}\".format(predikcije[i], testTargeti[i]))"
   ]
  }
 ],
 "metadata": {
  "kernelspec": {
   "display_name": "Python 3",
   "language": "python",
   "name": "python3"
  },
  "language_info": {
   "codemirror_mode": {
    "name": "ipython",
    "version": 3
   },
   "file_extension": ".py",
   "mimetype": "text/x-python",
   "name": "python",
   "nbconvert_exporter": "python",
   "pygments_lexer": "ipython3",
   "version": "3.11.4"
  },
  "orig_nbformat": 4
 },
 "nbformat": 4,
 "nbformat_minor": 2
}
